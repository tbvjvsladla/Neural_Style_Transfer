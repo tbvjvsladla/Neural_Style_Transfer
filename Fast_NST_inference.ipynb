{
 "cells": [
  {
   "cell_type": "code",
   "execution_count": 1,
   "metadata": {},
   "outputs": [],
   "source": [
    "import torch\n",
    "from img_utils import * #필자가 따로 만든 데이터 전처리 라이브러리\n",
    "from tr_net_se import ImageTransformNet #트랜스포머 net 라이브러리 불러오기\n",
    "\n",
    "from PIL import Image\n",
    "import numpy as np"
   ]
  },
  {
   "cell_type": "code",
   "execution_count": 2,
   "metadata": {},
   "outputs": [],
   "source": [
    "#GPU 사용 가능 여부 확인\n",
    "device = torch.device('cuda' if torch.cuda.is_available() else 'cpu')\n",
    "# 데이터셋 표준화를 위한 기본정보 # 이게 이미지 정규화임\n",
    "imgNet_val = {'mean' : [0.485, 0.456, 0.406], 'std' : [0.229, 0.224, 0.225]}"
   ]
  },
  {
   "cell_type": "code",
   "execution_count": 3,
   "metadata": {},
   "outputs": [
    {
     "name": "stdout",
     "output_type": "stream",
     "text": [
      "torch.Size([6, 3, 1080, 1920])\n"
     ]
    }
   ],
   "source": [
    "import glob\n",
    "\n",
    "img_dir = './test_img/' #이미지가 저장된 경로 #여기에 넣고싶은 파일 넣기\n",
    "img_paths = glob.glob(img_dir + '*.jpg') + glob.glob(img_dir + '*.png')\n",
    "\n",
    "tas_tensor_list = list()\n",
    "\n",
    "tensor_size = (1080, 1920)\n",
    "img_shape = [1080, 1920] #모든 이미지는 다 1080p임 #조정하고싶으면 마음대로\n",
    "\n",
    "for img_path in img_paths:\n",
    "    task_tensor, _ = preprocess_img(img_path, tensor_size, imgNet_val, device)\n",
    "    tas_tensor_list.append(task_tensor)\n",
    "\n",
    "#리스트 내 이미지 텐서를 배치 텐서로 결합\n",
    "batch_task_tensor = torch.cat(tas_tensor_list, dim=0)\n",
    "print(batch_task_tensor.size())\n"
   ]
  },
  {
   "cell_type": "code",
   "execution_count": 4,
   "metadata": {},
   "outputs": [],
   "source": [
    "import gdown #학습시킨 가중치 파일은 구글드라이브에 있음\n",
    "import os"
   ]
  },
  {
   "cell_type": "code",
   "execution_count": 5,
   "metadata": {},
   "outputs": [
    {
     "name": "stdout",
     "output_type": "stream",
     "text": [
      "파일이 이미 존재함\n"
     ]
    }
   ],
   "source": [
    "# 파일 ID 추출\n",
    "file_id = \"1Hg9mMnH_Y9BHEtTLu7x8EupNC_VdcZt9\"\n",
    "# 다운로드 링크 생성\n",
    "download_url = f\"https://drive.google.com/uc?id={file_id}\"\n",
    "# 파일 다운로드\n",
    "output_file = \"SE4style_TR_net.pth\"\n",
    "\n",
    "# 파일 다운로드\n",
    "if not os.path.exists(output_file):\n",
    "    gdown.download(download_url, output_file, quiet=False)\n",
    "    print(\"다운로드 완료\")\n",
    "else:\n",
    "    print(\"파일이 이미 존재함\")"
   ]
  },
  {
   "cell_type": "code",
   "execution_count": 6,
   "metadata": {},
   "outputs": [
    {
     "name": "stdout",
     "output_type": "stream",
     "text": [
      "\n"
     ]
    }
   ],
   "source": [
    "tr_net = ImageTransformNet() #모델 인스턴스화\n",
    "\n",
    "state_dict = torch.load(output_file, weights_only=True) #weight파일 불러오기\n",
    "\n",
    "tr_net.load_state_dict(state_dict) #불러온 weight파일을 모델에 붙이기\n",
    "\n",
    "tr_net.to(device) #tr모델을 GPU로 이전\n",
    "print()"
   ]
  },
  {
   "cell_type": "code",
   "execution_count": 7,
   "metadata": {},
   "outputs": [
    {
     "name": "stdout",
     "output_type": "stream",
     "text": [
      "torch.Size([1, 3, 1080, 1920])\n",
      "torch.Size([1, 3, 1080, 1920])\n",
      "torch.Size([1, 3, 1080, 1920])\n",
      "torch.Size([1, 3, 1080, 1920])\n",
      "torch.Size([1, 3, 1080, 1920])\n",
      "torch.Size([1, 3, 1080, 1920])\n"
     ]
    }
   ],
   "source": [
    "tr_net.eval() #이미지를 평가모드로 전환\n",
    "\n",
    "with torch.no_grad(): #그래디언트 추적금지\n",
    "    #배치 이미지를 한번에 Style transfer\n",
    "    result_tensor = tr_net(batch_task_tensor)\n",
    "\n",
    "for i in range(result_tensor.size(0)):\n",
    "    # 배치 텐서에서 개별 이미지 추출\n",
    "    img_tensor = result_tensor[i].unsqueeze(0) \n",
    "    print(img_tensor.size())\n",
    "    res_img = deprocess_img(img_tensor, img_shape, imgNet_val)\n",
    "    #res_img는 PIL 이미지로 변환까지 수행되게 deprocess_img를 설계함\n",
    "    res_img.save(f\"res_{i+1:02d}.jpg\") #이미지 저장"
   ]
  }
 ],
 "metadata": {
  "kernelspec": {
   "display_name": "Python 3",
   "language": "python",
   "name": "python3"
  },
  "language_info": {
   "codemirror_mode": {
    "name": "ipython",
    "version": 3
   },
   "file_extension": ".py",
   "mimetype": "text/x-python",
   "name": "python",
   "nbconvert_exporter": "python",
   "pygments_lexer": "ipython3",
   "version": "3.8.10"
  }
 },
 "nbformat": 4,
 "nbformat_minor": 2
}
